{
 "cells": [
  {
   "cell_type": "markdown",
   "metadata": {},
   "source": [
    "# Test a Perceptual Phenomenon\n",
    "\n",
    "The purpose of this project is to investigate a classic phenomenon from experimental psychology, called the [**Stroop Effect**](https://en.wikipedia.org/wiki/Stroop_effect \"Stroop Effect\").\n",
    "\n",
    "In psychology, the Stroop effect is a demonstration of interference in the reaction time of a task. When the name of a color (e.g., \"blue\", \"green\", or \"red\") is printed in a color that is not denoted by the name (e.g., the word \"red\" printed in blue ink instead of red ink), naming the color of the word takes longer and is more prone to errors than when the color of the ink matches the name of the color.\n",
    "\n",
    "**_Incongruent words condition:_** <font color=red>Green</font> <font color=blue>Red</font> <font color=green>Blue</font>\n",
    "<br>\n",
    "**_congruent words condition:_** <font color=green>Green</font> <font color=red>Red</font> <font color=blue>Blue</font>\n",
    "<br>\n",
    "\n",
    "To test this effect, we analyzed a data set, which has times recorded, by participants, during congruent and incongruent experiment. Data set can be downloaded from [**stroopdata.csv**](https://drive.google.com/file/d/0B9Yf01UaIbUgQXpYb2NhZ29yX1U/view). Based on this analysis here are the answers of some of the questions.\n",
    "\n",
    "\n"
   ]
  },
  {
   "cell_type": "markdown",
   "metadata": {},
   "source": [
    "###### 1. What is our independent variable? What is our dependent variable?\n",
    "\n",
    "**Independent variable:** Reading words from equally sized lists based on congruent and incongruent words conditions.\n",
    "\n",
    "**Dependent variable:** Time taken, while read through the lists."
   ]
  },
  {
   "cell_type": "markdown",
   "metadata": {},
   "source": [
    "###### 2. What is an appropriate set of hypotheses for this task?\n",
    "\n",
    "Here population parameters (mean & standard deviation) are not known and we are using sample of size 24. As the sample size is less than 30, the sample data no longer approximate a normal distribution. These factors make use of T-Test more appropriate than Z-value. \n",
    "\n",
    "A one-tailed test is appropriate under the assumption that incongruent word conditions will not improve recognition times. The one-tailed test allows examination of the negative impact of incongruent word conditions. Here samples (self-pairing) are dependent becaue same subjects are assigned to two different conditions and tested for each, which area defining criteria for \"repeated-measures\"\n",
    "\n",
    "**Null hypothesis ($H_0$):**  The mean time for colour recognition for congruent words is equal to or greater than the mean time for incongruent words. <br>\n",
    "$\n",
    "\\begin{align}\n",
    "H_0: \\mu_C \\geq \\mu_I\n",
    "\\end{align} \n",
    "$\n",
    "\n",
    "**Alternate hypothesis ($H_A$):** The mean time for colour recognition for congruent words is less than the mean time for incongruent words.<br>\n",
    "$\n",
    "\\begin{align}\n",
    "H_A: \\mu_C < \\mu_I\n",
    "\\end{align} \n",
    "$\n",
    "\n",
    "Here $\\mu$ is a population mean, the subscript \"C\" and \"I\" represents the congruent words condition and incongruent words condition, respectively. \n",
    "\n",
    "This is going to be a **one-tailed test** and I have taken **alpha level of .05**."
   ]
  },
  {
   "cell_type": "markdown",
   "metadata": {},
   "source": [
    "###### 3. Report some descriptive statistics regarding this dataset. Include at least one measure of central tendency and at least one measure of variability.\n",
    "**For Incongruent:**\n",
    "   \n",
    "$\n",
    "\\begin{align}\n",
    "    Mean(\\bar{X}_I) = 22.02\\text{, Standard deviation}(S_I) = 4.80\\text{, Sample size} (n) = 24\n",
    "\\end{align} \n",
    "$\n",
    "\n",
    "**For Congruent:**\n",
    "   \n",
    "$\n",
    "\\begin{align}\n",
    "    Mean(\\bar{X}_C) = 14.05\\text{, Standard deviation}(S_C) = 3.56\\text{, Sample size} (n) = 24\n",
    "\\end{align} \n",
    "$"
   ]
  },
  {
   "cell_type": "markdown",
   "metadata": {},
   "source": [
    "###### 4. One or two visualizations have been created that show off the data, including comments on what can be observed in the plot or plots.\n",
    "\n",
    "| Bar Chart | Scatterd Plot |\n",
    "| :---| :--- |\n",
    "| ![title](BarChart.PNG) | ![title](ScatterdPlot.PNG)|\n",
    "\n",
    "| Histogram Congruent | Histogram Incongruent |\n",
    "| :---| :--- |\n",
    "| ![title](Histogram_Congruent.PNG) | ![title](Histogram_Incongruent.PNG)|\n",
    "\n",
    "The congruent words sample has a distribution which is between 8 and 22 seconds and has a lower average completion time compared to the incongruent words scatterplot which shows the distibtuion is between 15 to about 36 seconds. The average completion time is definitely higher."
   ]
  },
  {
   "cell_type": "markdown",
   "metadata": {},
   "source": [
    "###### 5. Now, perform the statistical test and report your results. What is your confidence level and your critical statistic value? Do you reject the null hypothesis or fail to reject it? Concluded in terms of the experiment task. Did the results match up with your expectations?\n",
    "\n",
    "Here \n",
    "$\n",
    "\\begin{align}\n",
    "    \\alpha = .05 \\text{ (1-tailed test), } n = 24\\text{ (Sample size), } df = 23 \\text{ (Degree of freedom)} \n",
    "\\end{align} \n",
    "$\n",
    "\n",
    "$\n",
    "\\begin{align}\n",
    "    \\bar{X}_C = 14.05 \\text {, } \\bar{X}_I = 22.02\n",
    "\\end{align} \n",
    "$\n",
    "\n",
    "$\n",
    "\\begin{align}\n",
    "    \\text{Point Estimate} = \\bar{X}_C - \\bar{X}_I = -7.97\n",
    "\\end{align} \n",
    "$\n",
    "\n",
    "$\n",
    "\\begin{align}\n",
    "    \\text{Standard Error of differences} = S_D = 4.86\n",
    "\\end{align} \n",
    "$\n",
    "\n",
    "$\n",
    "\\begin{align}\n",
    "    \\text{t-Critical} = -1.714\n",
    "\\end{align} \n",
    "$\n",
    "\n",
    "$\n",
    "\\begin{align}\n",
    "    \\text{t-Statistic} = \\frac{(\\bar{X}_C - \\bar{X}_I)}{\\frac{S_D}{\\sqrt{n}}} = -8.03\n",
    "\\end{align} \n",
    "$\n",
    "\n",
    "As we found that \n",
    "$\n",
    "\\begin{align}\n",
    "    \\text{t-Statistic} < \\text{t-critical }\n",
    "\\end{align} \n",
    "$\n",
    "so we reject the null hypotheses. We conclude that the congruent/incongruent condition does affect the time it takes to name the ink colors, and incongruent condition takes more time than congruent condition test.\n"
   ]
  },
  {
   "cell_type": "code",
   "execution_count": null,
   "metadata": {},
   "outputs": [],
   "source": []
  }
 ],
 "metadata": {
  "kernelspec": {
   "display_name": "Python [conda env:DAND]",
   "language": "python",
   "name": "conda-env-DAND-py"
  },
  "language_info": {
   "codemirror_mode": {
    "name": "ipython",
    "version": 2
   },
   "file_extension": ".py",
   "mimetype": "text/x-python",
   "name": "python",
   "nbconvert_exporter": "python",
   "pygments_lexer": "ipython2",
   "version": "2.7.12"
  }
 },
 "nbformat": 4,
 "nbformat_minor": 2
}
